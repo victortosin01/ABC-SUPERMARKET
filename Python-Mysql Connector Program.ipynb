{
 "cells": [
  {
   "cell_type": "markdown",
   "id": "d6f5f08f",
   "metadata": {},
   "source": [
    "## Phython-Mysql Menu driven connector program"
   ]
  },
  {
   "cell_type": "markdown",
   "id": "8a92241d",
   "metadata": {},
   "source": [
    "### Problem Statement"
   ]
  },
  {
   "cell_type": "markdown",
   "id": "d6877ab0",
   "metadata": {},
   "source": [
    "At ABC supermarket store selling five items – Milo, Sugar, Lipton Tea, Bournvita, and Milk in packets, the quantity in store for each item is monitored. When the quantity in store is 5 (the Reorder level), new order is placed for a quantity of say, 20 (Re-order quantity) to replenish the stock for the item in question.   The sales policy is that if at least five packets of any of these products are bought, a five percent discount is given on the total payable by customers on the product. In any case, unit prices are different for all the products. "
   ]
  },
  {
   "cell_type": "markdown",
   "id": "be7db451",
   "metadata": {},
   "source": [
    "### Task"
   ]
  },
  {
   "cell_type": "markdown",
   "id": "2ad0c50d",
   "metadata": {},
   "source": [
    "Implement a menu-driven program in any language of your choice using a database backend as input and all outputs directed to a file for the following tasks:\n",
    "\n",
    "(i)\tCreate a database for the ABC Supermarket containing Customer, Sales, Product and Inventory Table.\n",
    "\n",
    "(ii)\tGenerate report on Quantity in stock, Quantity Sold To Date, Quantity Remaining in Stock, Needs Replenishment?, etc for each of the items being sold.\n"
   ]
  },
  {
   "cell_type": "markdown",
   "id": "cbd3d750",
   "metadata": {},
   "source": [
    "### Importing libraries"
   ]
  },
  {
   "cell_type": "code",
   "execution_count": 2,
   "id": "42ea0d61",
   "metadata": {},
   "outputs": [],
   "source": [
    "#This library is used to connect sql and python\n",
    "import mysql.connector\n",
    "#This is used to control the error that might occur during the connection\n",
    "from mysql.connector import Error\n",
    "#This library is used to create a dataframe \n",
    "import pandas as pd"
   ]
  },
  {
   "cell_type": "markdown",
   "id": "06dae894",
   "metadata": {},
   "source": [
    "### Necessary Functions"
   ]
  },
  {
   "cell_type": "markdown",
   "id": "fb397d40",
   "metadata": {},
   "source": [
    "#### 1. General Purpose Functions"
   ]
  },
  {
   "cell_type": "code",
   "execution_count": 3,
   "id": "6e52ed5f",
   "metadata": {},
   "outputs": [],
   "source": [
    "### 1. Python-Mysql Database Connector Function\n",
    "def DatabaseConnector(user_name,host_name, password, database):\n",
    "    \"\"\"\n",
    "    Docstrings:\n",
    "    \n",
    "    This function is used to connect to a Mysql database from python.\n",
    "    Parameters\n",
    "    ----------\n",
    "    user_name : The username of the person who wants to access info from the database\n",
    "    host_name : This is the host name of the database location. hist_name = localhost if database is located on the same computer\n",
    "    password : The password of the person who wants to access info from the database\n",
    "    database : This is the name of the database to be connected to.\n",
    "    \"\"\"\n",
    "    connection = None\n",
    "    try:\n",
    "        connection = mysql.connector.connect(\n",
    "            host = host_name,\n",
    "            user = user_name,\n",
    "            passwd = password,\n",
    "            database = database\n",
    "        )\n",
    "        print('Mysql Database connected successfully')\n",
    "    except Error as err:\n",
    "        print(f'Error: {err}\\n')\n",
    "    \n",
    "    return connection\n",
    "\n",
    "## 2. Mysql Query Executor function\n",
    "def ExecuteQuery(connection, query):\n",
    "    \n",
    "    \"\"\"\n",
    "    Docstrings:\n",
    "    \n",
    "    This function is used to execute any sql query on Mysql database from python.\n",
    "    \n",
    "    Parameters\n",
    "    ----------\n",
    "    connection : This is the database to be connected to\n",
    "    query : This is the sql query needed to be executed\n",
    "    \"\"\"\n",
    "    cursor = connection.cursor()\n",
    "    result = None\n",
    "    try:\n",
    "        cursor.execute(query)\n",
    "        result = cursor.fetchall()\n",
    "    except Error as err:\n",
    "        print('Error : {err}')\n",
    "    return result"
   ]
  },
  {
   "cell_type": "markdown",
   "id": "d9b11674",
   "metadata": {},
   "source": [
    "#### 2. Specific Purpose Functions"
   ]
  },
  {
   "cell_type": "code",
   "execution_count": 14,
   "id": "8e3205a2",
   "metadata": {},
   "outputs": [],
   "source": [
    "### 1. This function access the quantity of the individual product in stock from the ABC database\n",
    "def QuantityInStock(connection):\n",
    "    get_quantity_in_store = \"\"\"\n",
    "    SELECT i.ProductID,  p.ProductName, i.InventoryOnHand as Quantity_in_Stock\n",
    "    FROM Inventory as i INNER JOIN Product as p\n",
    "    ON i.ProductID = p.ProductID;\n",
    "    \"\"\"\n",
    "    QIS = ExecuteQuery(connection, get_quantity_in_store)#QIS : Quantity in Stock\n",
    "    QIS = pd.DataFrame(QIS, columns = ['Product ID', 'Product Name', 'Quantity in stock']).set_index('Product ID')\n",
    "    \n",
    "    return QIS\n",
    "\n",
    "### 2. This function access the quantity of the individual product sold to date from the ABC database\n",
    "\n",
    "def QuantitySoldToDate(connection):\n",
    "    get_QuantitySoldToDate = \"\"\"\n",
    "    SELECT i.ProductID,  p.ProductName, (i.InventoryReceived + i.StartingInventory - i.InventoryOnHand) as Quantity_sold_to_Date\n",
    "    FROM Inventory as i INNER JOIN Product as p\n",
    "    ON i.ProductID = p.ProductID;\n",
    "    \"\"\"\n",
    "    QSD = ExecuteQuery(connection,get_QuantitySoldToDate) #QSD : Quantity Solld to Date\n",
    "    QSD = pd.DataFrame(QSD, columns = ['Product ID', 'Product Name', 'Quantity sold to Date']).set_index('Product ID')\n",
    "    \n",
    "    return QSD\n",
    "\n",
    "### 3. This function access the if there is need for replenishing the individual products in the ABC database\n",
    "## Note : When the quantity in store is 5 (the Reorder level), new order is placed for a quantity of say, 20 (Re-order quantity) to replenish the stock for the item in question.\n",
    "\n",
    "def NeedsForReplenishment(connection):\n",
    "    NFR = QuantityInStock(connection = connection) #NFR : Needs for Replenishment\n",
    "    NFR['Needs for Replenishment'] = NFR['Quantity in stock'].apply(lambda x: 'Yes' if x<=5 else 'No' )\n",
    "    return NFR\n",
    "\n",
    "\n",
    "## 4. This function creates a file for any of the above report upon request\n",
    "\n",
    "def FileReport(df, filename, abbrev):\n",
    "    with open(filename+'.txt', 'w') as file:\n",
    "        file.write(f'                    {abbrev} Report\\n')\n",
    "        file.write('                    ----------------------------\\n\\n')\n",
    "        for i in range(len(df)):\n",
    "            index = df.index[i]\n",
    "            p_name , p_quan = df.loc[index]['Product Name'],  df.loc[index][abbrev]\n",
    "            file.write(f'Product ID: {index}, Product Name: {p_name}, {abbrev}: {p_quan}\\n\\n')\n",
    "        print('Loading..........................')\n",
    "        print('File created successfully!')\n",
    "        \n",
    "## 5. This function takes care of any instance of incorrect username or password\n",
    "\n",
    "def LogInCheck(connect):\n",
    "    if connect == None:\n",
    "        print('Check the password and username to make sure they are correct\\n')\n",
    "        print('Press 1 to Continue\\nPress other key to Quit Program')\n",
    "        res = input('Input response : ')\n",
    "        if res == '1':\n",
    "            DatabaseInfoAccess()\n",
    "        else:\n",
    "            sys.exit()\n",
    "    else:\n",
    "        pass"
   ]
  },
  {
   "cell_type": "code",
   "execution_count": 15,
   "id": "a1adec68",
   "metadata": {},
   "outputs": [],
   "source": [
    "import sys\n",
    "import warnings\n",
    "warnings.filterwarnings('ignore')"
   ]
  },
  {
   "cell_type": "markdown",
   "id": "2d0d0de1",
   "metadata": {},
   "source": [
    "### 3. The Menu-Driven Function"
   ]
  },
  {
   "cell_type": "markdown",
   "id": "24e8341b",
   "metadata": {},
   "source": [
    "This function generates report on Quantity in stock, Quantity Sold To Date, and Needs Replenishment for each of the items being sold by ABC Supermarket."
   ]
  },
  {
   "cell_type": "code",
   "execution_count": 16,
   "id": "ae2a5904",
   "metadata": {},
   "outputs": [],
   "source": [
    "def DatabaseInfoAccess():\n",
    "    print('<<<<<<<<<<<<<<<<<<<<<<<<<<<<<<<<<< WELCOME >>>>>>>>>>>>>>>>>>>>>>>>>>>>>>>>>\\n')\n",
    "    print('To access information from ABC Supermarket Database kindly provide your login details\\n')\n",
    "    user_name = input('Input Database Username : ')\n",
    "    password = input('Input Database Password : ')\n",
    "    connection = DatabaseConnector(user_name = user_name, host_name = 'localhost',\n",
    "                                  password = password, database = 'ABC_Supermarket_Database')\n",
    "    LogInCheck(connect = connection)\n",
    "    def MainMenu():\n",
    "        while(connection != None):\n",
    "            print('\\n')\n",
    "            print('<<<<<<<<<<<<<<<<<<<<<<<<<<<<<<<<<< MAIN MENU >>>>>>>>>>>>>>>>>>>>>>>>>>>>>>>>>\\n')\n",
    "            print('To access the following command select the corresponding number\\n')\n",
    "            print('1. Quantity of Product in stock')\n",
    "            print('2. Quantity Sold To Date')\n",
    "            print('3. Needs for Replenishment')\n",
    "            print('4. Logout')\n",
    "            print('5. Quit Program\\n')\n",
    "            response = input('Input response : ')\n",
    "\n",
    "            if response == '1':\n",
    "                filename = input('Input the name of the file: ')\n",
    "                df = QuantityInStock(connection = connection)\n",
    "                FileReport(df = df, filename=filename, abbrev = 'Quantity in stock')\n",
    "                MainMenu()\n",
    "                break\n",
    "            elif response == '2':\n",
    "                filename = input('Input the name of the file: ')\n",
    "                df = QuantitySoldToDate(connection = connection)\n",
    "                FileReport(df = df, filename=filename, abbrev = 'Quantity sold to Date')\n",
    "                MainMenu()\n",
    "                break\n",
    "            elif response == '3':\n",
    "                filename = input('Input the name of the file: ')\n",
    "                df = NeedsForReplenishment(connection = connection)\n",
    "                FileReport(df = df, filename=filename, abbrev = 'Needs for Replenishment')\n",
    "                MainMenu()\n",
    "                break\n",
    "            elif response == '4': \n",
    "                DatabaseInfoAccess()\n",
    "                break\n",
    "            elif response == '5':\n",
    "                break\n",
    "            else:\n",
    "                print('Invalid response\\nInput a number between 1 and 5')\n",
    "                MainMenu()\n",
    "                break\n",
    "    MainMenu()\n",
    "                \n",
    "                "
   ]
  },
  {
   "cell_type": "markdown",
   "id": "049dfd06",
   "metadata": {},
   "source": [
    "### Testing the program"
   ]
  },
  {
   "cell_type": "code",
   "execution_count": 16,
   "id": "efd77d28",
   "metadata": {},
   "outputs": [
    {
     "name": "stdout",
     "output_type": "stream",
     "text": [
      "<<<<<<<<<<<<<<<<<<<<<<<<<<<<<<<<<< WELCOME >>>>>>>>>>>>>>>>>>>>>>>>>>>>>>>>>\n",
      "\n",
      "To access information from ABC Supermarket Database kindly provide your login details\n",
      "\n",
      "Input Database Username : root\n",
      "Input Database Password : Babawale@208179\n",
      "Mysql Database connected successfully\n",
      "\n",
      "\n",
      "<<<<<<<<<<<<<<<<<<<<<<<<<<<<<<<<<< MAIN MENU >>>>>>>>>>>>>>>>>>>>>>>>>>>>>>>>>\n",
      "\n",
      "To access the following command select the corresponding number\n",
      "\n",
      "1. Quantity of Product in stock\n",
      "2. Quantity Sold To Date\n",
      "3. Needs for Replenishment\n",
      "4. Logout\n",
      "5. Quit Program\n",
      "\n",
      "Input response : 1\n",
      "Input the name of the file: Quantity_in_stock\n",
      "Loading..........................\n",
      "File created successfully!\n",
      "\n",
      "\n",
      "<<<<<<<<<<<<<<<<<<<<<<<<<<<<<<<<<< MAIN MENU >>>>>>>>>>>>>>>>>>>>>>>>>>>>>>>>>\n",
      "\n",
      "To access the following command select the corresponding number\n",
      "\n",
      "1. Quantity of Product in stock\n",
      "2. Quantity Sold To Date\n",
      "3. Needs for Replenishment\n",
      "4. Logout\n",
      "5. Quit Program\n",
      "\n",
      "Input response : 5\n"
     ]
    }
   ],
   "source": [
    "DatabaseInfoAccess()"
   ]
  },
  {
   "cell_type": "markdown",
   "id": "8cb2672f",
   "metadata": {},
   "source": [
    "#### File report"
   ]
  },
  {
   "cell_type": "code",
   "execution_count": 24,
   "id": "efd9d76f",
   "metadata": {},
   "outputs": [
    {
     "name": "stdout",
     "output_type": "stream",
     "text": [
      "                    Quantity in stock Report\n",
      "                    ----------------------------\n",
      "\n",
      "Product ID: ITM001, Product Name: Milo, Quantity in stock: 56\n",
      "\n",
      "Product ID: ITM002, Product Name: Sugar, Quantity in stock: 96\n",
      "\n",
      "Product ID: ITM003, Product Name: Lipton Tea, Quantity in stock: 13\n",
      "\n",
      "Product ID: ITM004, Product Name: Bournvita, Quantity in stock: 34\n",
      "\n",
      "Product ID: ITM005, Product Name: Milk, Quantity in stock: 20\n",
      "\n",
      "\n"
     ]
    }
   ],
   "source": [
    "with open('Quantity_in_stock.txt','r') as file:\n",
    "    content = file.read()\n",
    "    print(content)"
   ]
  }
 ],
 "metadata": {
  "kernelspec": {
   "display_name": "Python 3 (ipykernel)",
   "language": "python",
   "name": "python3"
  },
  "language_info": {
   "codemirror_mode": {
    "name": "ipython",
    "version": 3
   },
   "file_extension": ".py",
   "mimetype": "text/x-python",
   "name": "python",
   "nbconvert_exporter": "python",
   "pygments_lexer": "ipython3",
   "version": "3.9.7"
  }
 },
 "nbformat": 4,
 "nbformat_minor": 5
}
